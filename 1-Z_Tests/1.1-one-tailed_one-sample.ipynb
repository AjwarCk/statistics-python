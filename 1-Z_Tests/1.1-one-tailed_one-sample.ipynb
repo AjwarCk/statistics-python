{
 "cells": [
  {
   "cell_type": "markdown",
   "id": "b6796d12",
   "metadata": {},
   "source": [
    "### One Tailed (Right Tailed) - One-Sample Z-Test"
   ]
  },
  {
   "cell_type": "markdown",
   "id": "b65a9335",
   "metadata": {},
   "source": [
    "**1 - What is it?**\n",
    "\n",
    "A. `Right One-Tailed One-Sample Z-Test` check the means of sample is significantly higher from the population mean (when population standard devidation is known and smaple size is large, usually n>=30).\n",
    "\n",
    "`Think of i like` \"Is my small group's average weight `really higher (significantly)` from the entire country's average weight, or is it just random chance\""
   ]
  },
  {
   "cell_type": "markdown",
   "id": "e6d75b76",
   "metadata": {},
   "source": [
    "**2 - Rea-Life Example - Right-Tailed One-Sample Z-Test**\n",
    "\n",
    "Scenario: Your marketing team says : `Our new landing page increases average session time beyond 5 minutes`\n",
    "\n",
    "You want to test if it's really greater than 5 minutes, not just different - So it's a one-tailed test (specifically, right-tailed)."
   ]
  },
  {
   "cell_type": "markdown",
   "id": "ad11bab1",
   "metadata": {},
   "source": [
    "**3 - Hypotheses**\n",
    "\n",
    "- H0 (Null Hypotheses): population mean (meau) = 5 (no improvement)\n",
    "- H1 (Alternate Hypotheses): sample mean > population mean (meau) (mean time increased)\n",
    "\n",
    "This is a **right-tailed** test because we're checking \"greater than.\""
   ]
  },
  {
   "cell_type": "markdown",
   "id": "d88b74d4",
   "metadata": {},
   "source": [
    "**4 - Formula**\n",
    "\n",
    "Z = (sample mean - population mean) / (population standard deviation/sqrt(sample size))\n",
    "\n",
    "Z = (x bar - μ) / (σ/sqrt(n))\n",
    "\n",
    "**Where: / Parameters**\n",
    "- population mean (meau) : 5 min\n",
    "- population standard deviation (σ) : 1 min\n",
    "- sample mean (x bar) : 5.5 min\n",
    "- sample size (n) : 50\n",
    "- significance level (a) : 0.05"
   ]
  },
  {
   "cell_type": "markdown",
   "id": "f7a41aab",
   "metadata": {},
   "source": [
    "**4 - Formula**\n",
    "\n",
    "Z = (sample mean - population mean)/(population standard deviation/sqrt(sample size)​)\n",
    "\n",
    "Z = (x bar - μ) / (σ/sqrt(n))\n",
    "\n",
    "**Where:**\n",
    "- x bar  = sample mean\n",
    "- μ (meu) = population mean\n",
    "- σ (sigma) = population standard deviation\n",
    "- n = sample size"
   ]
  },
  {
   "cell_type": "markdown",
   "id": "e7292ab5",
   "metadata": {},
   "source": [
    "**Python Implementation (Step-by-Step)**"
   ]
  },
  {
   "cell_type": "code",
   "execution_count": 7,
   "id": "979e616d",
   "metadata": {},
   "outputs": [
    {
     "name": "stdout",
     "output_type": "stream",
     "text": [
      "Standard Error (SE): 0.1414\n",
      "Z-Statistic: 3.5355\n",
      "P-Value: 0.0002\n",
      "Reject H0: The landing page signficantly increased session time.\n"
     ]
    }
   ],
   "source": [
    "import numpy as np\n",
    "from scipy import stats\n",
    "\n",
    "# ------------------------------------\n",
    "# Step 1: Define parameters\n",
    "# ------------------------------------\n",
    "population_mean = 5 # average time on site (in minutes)\n",
    "population_std = 1  # σ = population standard deviation\n",
    "sample_mean = 5.5   # x̄ = sample mean \n",
    "sample_size = 50    # n = number of visitors in sample\n",
    "alpha = 0.05        # significance level\n",
    "\n",
    "# -------------------------------------\n",
    "# Step 2: Calculate Standard Error (SE)\n",
    "# -------------------------------------\n",
    "standard_error = population_std / np.sqrt(sample_size)\n",
    "print(f\"Standard Error (SE): {round(standard_error,4)}\")\n",
    "\n",
    "# --------------------------------------\n",
    "# Step 3: Calculate Z-Statistic\n",
    "# --------------------------------------\n",
    "z_stat = (sample_mean - population_mean) / standard_error\n",
    "print(f\"Z-Statistic: {round(z_stat,4)}\")\n",
    "\n",
    "# ---------------------------------------\n",
    "# Step 4: Calculate one-tailed p-value (right tailed test)\n",
    "# ----------------------------------------\n",
    "p_value = 1 - stats.norm.cdf(z_stat)\n",
    "print(f\"P-Value: {round(p_value,4)}\")\n",
    "\n",
    "# -----------------------------------------\n",
    "# Step 5: Decision\n",
    "# -----------------------------------------\n",
    "if p_value < alpha:\n",
    "    print(\"Reject H0: The landing page signficantly increased session time.\")\n",
    "else:\n",
    "    print(\"Fail to Reject H0: No signficant increase in session tiem.\")"
   ]
  },
  {
   "cell_type": "markdown",
   "id": "0d89f0e6",
   "metadata": {},
   "source": [
    "**6 - Business Interpretation**\n",
    "\n",
    "- Z = 3.53 -> sample mean is 3.5 standard errors above the population mean.\n",
    "- p = 0.0002 -> if the old landing page was truly average, the chance of seeing such a high sample mean (or higher) is 0.02%!\n",
    "- So, your new page **really did** increase time - not by random luck."
   ]
  }
 ],
 "metadata": {
  "kernelspec": {
   "display_name": "base",
   "language": "python",
   "name": "python3"
  },
  "language_info": {
   "codemirror_mode": {
    "name": "ipython",
    "version": 3
   },
   "file_extension": ".py",
   "mimetype": "text/x-python",
   "name": "python",
   "nbconvert_exporter": "python",
   "pygments_lexer": "ipython3",
   "version": "3.12.9"
  }
 },
 "nbformat": 4,
 "nbformat_minor": 5
}
