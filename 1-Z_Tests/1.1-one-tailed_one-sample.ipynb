{
 "cells": [
  {
   "cell_type": "markdown",
   "id": "b6796d12",
   "metadata": {},
   "source": [
    "### One Tailed (Right Tailed) - One-Sample Z-Test"
   ]
  },
  {
   "cell_type": "markdown",
   "id": "1f48158c",
   "metadata": {},
   "source": [
    "**1 - What it is?**\n",
    "\n",
    "A. `One-Tailed (Right Tailed) - One-Sample Z-Test` checks if the mean of your sample is significantly higher from the population mean (when population standard deviation is known, and sample size is large, usually n>=30).\n",
    "\n",
    "`Think of it like` \"Is my small group's average weight `really higher (sifnificantly)` from the entire country's average weight, or is it just random chance\""
   ]
  },
  {
   "cell_type": "markdown",
   "id": "e6d75b76",
   "metadata": {},
   "source": [
    "**2 - Rea-Life Example - Right-Tailed One-Sample Z-Test**\n",
    "\n",
    "Scenario: Your marketing team says : `Our new landing page increases average session time beyond 5 minutes`\n",
    "\n",
    "You want to test if it's really greater than 5 minutes, not just different - So it's a one-tailed test (specifically, right-tailed)."
   ]
  },
  {
   "cell_type": "markdown",
   "id": "ad11bab1",
   "metadata": {},
   "source": [
    "**3 - Hypotheses**\n",
    "\n",
    "- H0 (Null Hypotheses): population mean (meau) = 5 (no improvement)\n",
    "- H1 (Alternate Hypotheses): sample mean > population mean (meau) (mean time increased)\n",
    "\n",
    "This is a **right-tailed** test because we're checking \"greater than.\""
   ]
  },
  {
   "cell_type": "code",
   "execution_count": null,
   "id": "d88b74d4",
   "metadata": {},
   "outputs": [],
   "source": []
  },
  {
   "cell_type": "markdown",
   "id": "f7a41aab",
   "metadata": {},
   "source": [
    "**4 - Formula**\n",
    "\n",
    "Z = (sample mean - population)/(population standard deviation/sqrt(sample size)​)\n",
    "\n",
    "Z = (x bar - μ) / (σ/sqrt(n))\n",
    "\n",
    "**Where:**\n",
    "- x bar  = sample mean\n",
    "- μ (meu) = population mean\n",
    "- σ (sigma) = population standard deviation\n",
    "- n = sample size"
   ]
  }
 ],
 "metadata": {
  "kernelspec": {
   "display_name": "base",
   "language": "python",
   "name": "python3"
  },
  "language_info": {
   "codemirror_mode": {
    "name": "ipython",
    "version": 3
   },
   "file_extension": ".py",
   "mimetype": "text/x-python",
   "name": "python",
   "nbconvert_exporter": "python",
   "pygments_lexer": "ipython3",
   "version": "3.12.9"
  }
 },
 "nbformat": 4,
 "nbformat_minor": 5
}
