{
 "cells": [
  {
   "cell_type": "markdown",
   "id": "b6796d12",
   "metadata": {},
   "source": [
    "### One Tailed (Right Tailed) - One-Sample Z-Test"
   ]
  },
  {
   "cell_type": "markdown",
   "id": "0a8d2411",
   "metadata": {},
   "source": [
    "**1 - What is it?**\n",
    "\n",
    "A. `Right One-Tailed One-Sample Z-Test` check the means of sample is significantly higher from the population mean (when population standard devidation is known and sample size is large, usually n>=30).\n",
    "\n",
    "`Think of i like` Is my small group's average weight `really higher (significantly)` from the entire country's average weight, or it just random chance."
   ]
  },
  {
   "cell_type": "markdown",
   "id": "3c9f4430",
   "metadata": {},
   "source": [
    "**2 - Real-Life Example : Right-Tailed One-Sample Z-Test**\n",
    "\n",
    "`Scenario:` Your marketing team says : `Our new landing page increase average session time beyond 5 minutes`\n",
    "\n",
    "You want to test if its really greater than 5 minutes, not just different - So it's a one-tailed test (specifically, right-tailed)"
   ]
  },
  {
   "cell_type": "markdown",
   "id": "f075c0fa",
   "metadata": {},
   "source": [
    "**3 - Hypotheses**\n",
    "\n",
    "- H0 (Null Hypothesis) : Population mean (meau) = 5 (no improement).\n",
    "- H1 (Alternate Hypothesis) : Population mean > Sample mean (mean time increased).\n",
    "\n",
    "This is a `right-tailed` test because we're checking the `greater than`."
   ]
  },
  {
   "cell_type": "markdown",
   "id": "8e23640c",
   "metadata": {},
   "source": [
    "**4 - Formula**\n",
    "\n",
    "Z = (Sample mean-Population mean) / (Populatin std / Sqrt(Sample size))\n",
    "\n",
    "Z = (x bar - μ) / (σ/sqrt(n))\n",
    "\n",
    "**Where: / Parameters**\n",
    "- Population mean (μ) = 5 min\n",
    "- Population std (σ) = 1 min\n",
    "- Sample mean (x bar) = 5.5 min\n",
    "- Sample size (n) = 50\n",
    "- Significance level (alpha) = 0.05\n",
    "- Confidence Interval = 0.95"
   ]
  },
  {
   "cell_type": "markdown",
   "id": "c5340d4b",
   "metadata": {},
   "source": [
    "**4 - Formula**\n",
    "\n",
    "Z = (Sample mean - Population mean) / (Population standard deviation / Sqrt(Sample size))\n",
    "\n",
    "Z = (x bar - μ) / (σ/sqrt(n))\n",
    "\n",
    "**Where: / Parameters**\n",
    "- population mean(μ) = 5 min\n",
    "- populatin standard devidation(σ) = 1 min\n",
    "- sample mean(x bar) = 5.5 min\n",
    "- sample size(n) = 50\n",
    "- signficance level (alpha) = 0.05\n",
    "- confidence interval = 0.95"
   ]
  },
  {
   "cell_type": "markdown",
   "id": "e4b3d664",
   "metadata": {},
   "source": [
    "**5 - Python Implementation (Step-by-Step)**"
   ]
  },
  {
   "cell_type": "code",
   "execution_count": 12,
   "id": "d3a90d16",
   "metadata": {},
   "outputs": [
    {
     "name": "stdout",
     "output_type": "stream",
     "text": [
      "Standard Error: 0.1414\n",
      "Z-Statistics: 3.5355\n",
      "P Value: 0.0002\n",
      "Rejecting H0: Landing page significantly increased session time.\n"
     ]
    }
   ],
   "source": [
    "import numpy as np\n",
    "from scipy import stats\n",
    "\n",
    "# Step 1 : Define parameters\n",
    "population_mean = 5 # average time on site (in minute)\n",
    "population_std = 1 # population standard deviation (spread from mean)\n",
    "sample_mean = 5.5 # sample mean\n",
    "sample_size = 50 # number of visitors in sample\n",
    "alpha = 0.05 # significance level\n",
    "\n",
    "# Step 2 : Calculate the Standard Error (SE)\n",
    "standard_error = population_std / np.sqrt(sample_size)\n",
    "print(f\"Standard Error: {round(standard_error,4)}\")\n",
    "\n",
    "# Step 3 : Z Statistics\n",
    "z_stat = (sample_mean - population_mean) / standard_error\n",
    "print(f\"Z-Statistics: {round(z_stat,4)}\")\n",
    "\n",
    "# Step 4 : Calculate Right One-Tailed One-Sample Z-Test P-Value\n",
    "p_value = 1 - (stats.norm.cdf(round(z_stat,4)))\n",
    "print(f\"P Value: {round(p_value,4)}\")\n",
    "\n",
    "# Step 5 : Decision\n",
    "if p_value < alpha:\n",
    "    print(\"Rejecting H0: Landing page significantly increased session time.\")\n",
    "else:\n",
    "    print(\"Fail to Reject H1: No signficant increase in session time.\")"
   ]
  },
  {
   "cell_type": "markdown",
   "id": "7834015e",
   "metadata": {},
   "source": [
    "**6 - Business Interpretation**\n",
    "\n",
    "- Z = 3.53 -> Sample mean is 3.5 standard errors above the population mean.\n",
    "- p = 0.0002 -> There's only 0.02% chance that this result happened by luck.\n",
    "- So, here new page `really did` increase time - not by random luck."
   ]
  }
 ],
 "metadata": {
  "kernelspec": {
   "display_name": "base",
   "language": "python",
   "name": "python3"
  },
  "language_info": {
   "codemirror_mode": {
    "name": "ipython",
    "version": 3
   },
   "file_extension": ".py",
   "mimetype": "text/x-python",
   "name": "python",
   "nbconvert_exporter": "python",
   "pygments_lexer": "ipython3",
   "version": "3.12.9"
  }
 },
 "nbformat": 4,
 "nbformat_minor": 5
}
