{
 "cells": [
  {
   "cell_type": "markdown",
   "id": "e79cdefa",
   "metadata": {},
   "source": [
    "### Two Tailed - One-Sample Z-Test"
   ]
  },
  {
   "cell_type": "markdown",
   "id": "2a80de60",
   "metadata": {},
   "source": [
    "**1 - What is it?**\n",
    "\n",
    "A. `Two-Tailed One-Sample Z-Test` is used to check whethher a sample mean is **significantly different (either higher or lower)** than the population mean, when the *population standard deviation known* and the *sample size is large (n>30)*.\n",
    "\n",
    "**In other words:**\n",
    "It checks if the sample mean devisates from the population mean *in either direction* not just greater or smaller, but any signficant difference.\n",
    "\n",
    "**Example:**\n",
    "Is my sample group's average score significantly different from the country's average, either higher or lower, or is the difference just due to random variation?"
   ]
  },
  {
   "cell_type": "markdown",
   "id": "8b0810ac",
   "metadata": {},
   "source": [
    "**2 - Real-Life Example: Two-Tailed One-Sample Z-Test**\n",
    "\n",
    "`Scenario:` A Company claims that their delivery time averages **3 days**. A manager believes that the actual delivery time might be **different** (either faster or slower).\n",
    "\n",
    "To verify this, we test whether the sample mean differs significantly from the claimed mean, in either direction, so this is a **tow-tailed test**."
   ]
  },
  {
   "cell_type": "markdown",
   "id": "13cd89f1",
   "metadata": {},
   "source": [
    "**3 - Hypotheses**\n",
    "\n",
    "- H0 (Null Hypothesis) : population mean = 3 -> The population mean delivery time is 3 days.\n",
    "- H1 (Alternative Hypothesis) : population mean != 3 -> The delivery time is significantly different from 3 days (could be higher or lower)\n",
    "\n",
    "This is a **two-tailed test** because we're testing for any *difference*, not just an *increase or decrease*."
   ]
  },
  {
   "cell_type": "markdown",
   "id": "37cd9bd4",
   "metadata": {},
   "source": [
    "**4 - Formula & Parameters**\n",
    "\n",
    "Z = (sample mean - population mean) / (population std/sqrt(sample size))\n",
    "\n",
    "Z = (x bar - μ) / (σ/sqrt(n))\n",
    "\n",
    "**Parameters**\n",
    "- Population mean (μ) : 3 days\n",
    "- Population std (σ) : 0.6 days\n",
    "- Sample mean (x bar) : 2.8 days\n",
    "- Sample size (n) : 45 days\n",
    "- Significance level (α) : 0.05\n",
    "- Confidence Interval (CI) : 0.95\n",
    "\n",
    "Here, since **population std is known** and **sample size>=30**, we can use a Z-test, specifically a two-tailed one-sample z-test."
   ]
  },
  {
   "cell_type": "markdown",
   "id": "1f15ac57",
   "metadata": {},
   "source": [
    "**5 - Python Implementation (Step-by-Step)**"
   ]
  },
  {
   "cell_type": "code",
   "execution_count": 2,
   "id": "d69faa93",
   "metadata": {},
   "outputs": [
    {
     "name": "stdout",
     "output_type": "stream",
     "text": [
      "Standard Error (SE): 0.0894\n",
      "Z Statistic: -2.2361\n",
      "P-Vaue: 0.0253\n",
      "Critical Values: Left = -1.9600, Right = 1.9600\n",
      "\n",
      "--- Decision Based on P-Value ---\n",
      "Reject H0: The sample mean is significantly different from population mean.\n",
      "\n",
      "--- Decision Based on Critical Values ---\n",
      "Reject H0: The sample mean is significantly different from population mean.\n"
     ]
    }
   ],
   "source": [
    "import numpy as np\n",
    "from scipy import stats\n",
    "\n",
    "# Step 1: Define Parameters\n",
    "population_mean = 3         # Claimed population mean\n",
    "population_std = 0.6        # Known population standard deviation\n",
    "sample_mean = 2.8           # Observed sample mean\n",
    "sample_size = 45            # Sample size\n",
    "alpha = 0.05                # Significance level\n",
    "\n",
    "# Step 2: Caculate Standard Error (SE)\n",
    "standard_error = population_std/np.sqrt(sample_size)\n",
    "print(f\"Standard Error (SE): {standard_error:.4f}\")\n",
    "\n",
    "# Step 3: Compute Z Statistic\n",
    "z_stat = (sample_mean - population_mean)/standard_error\n",
    "print(f\"Z Statistic: {z_stat:.4f}\")\n",
    "\n",
    "# Step 4: Compute Two-Tailed P-Value\n",
    "p_value = 2 * (1 - stats.norm.cdf(abs(z_stat)))\n",
    "print(f\"P-Vaue: {p_value:.4f}\")\n",
    "\n",
    "# Step 5: Compute Critical Values for Two-Tailed Test\n",
    "# Split alpha in half for both sides\n",
    "z_critical_left = stats.norm.ppf(alpha/2)\n",
    "z_critical_right = stats.norm.ppf(1-alpha/2)\n",
    "print(f\"Critical Values: Left = {z_critical_left:.4f}, Right = {z_critical_right:.4f}\")\n",
    "\n",
    "# Step 6: Decision Making\n",
    "print(\"\\n--- Decision Based on P-Value ---\")\n",
    "if p_value < alpha:\n",
    "    print(\"Reject H0: The sample mean is significantly different from population mean.\")\n",
    "else:\n",
    "    print(\"Fail to Reject H0: No significant difference detected.\")\n",
    "\n",
    "print(\"\\n--- Decision Based on Critical Values ---\")\n",
    "if (z_stat < z_critical_left) or (z_stat > z_critical_right):\n",
    "    print(\"Reject H0: The sample mean is significantly different from population mean.\")\n",
    "else:\n",
    "    print(\"Fail to Reject H0: No significant difference detected.\")"
   ]
  },
  {
   "cell_type": "markdown",
   "id": "9c0677bd",
   "metadata": {},
   "source": [
    "**6 - Business Interpretation**\n",
    "- Z = -2.36 -> The sample mean is **2.36 standard errors below** the population mean.\n",
    "- p = 0.0253 -> There's only about 2.5% chance of seeing such difference if the true mean were actually 3.\n",
    "\n",
    "**Conclusion**\n",
    "Since **p<0.05**, we **Reject H0**, concluding the **average delivery time is signficantly different** form the claimed 3 days.\n",
    "\n",
    "In business terms: delivery time **has changed**, and the company's claim no logner reflects the real performance."
   ]
  }
 ],
 "metadata": {
  "kernelspec": {
   "display_name": "base",
   "language": "python",
   "name": "python3"
  },
  "language_info": {
   "codemirror_mode": {
    "name": "ipython",
    "version": 3
   },
   "file_extension": ".py",
   "mimetype": "text/x-python",
   "name": "python",
   "nbconvert_exporter": "python",
   "pygments_lexer": "ipython3",
   "version": "3.12.9"
  }
 },
 "nbformat": 4,
 "nbformat_minor": 5
}
