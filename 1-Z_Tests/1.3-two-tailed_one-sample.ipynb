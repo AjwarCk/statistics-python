{
 "cells": [
  {
   "cell_type": "markdown",
   "id": "e79cdefa",
   "metadata": {},
   "source": [
    "### Two Tailed - One-Sample Z-Test"
   ]
  },
  {
   "cell_type": "markdown",
   "id": "2a80de60",
   "metadata": {},
   "source": []
  }
 ],
 "metadata": {
  "language_info": {
   "name": "python"
  }
 },
 "nbformat": 4,
 "nbformat_minor": 5
}
