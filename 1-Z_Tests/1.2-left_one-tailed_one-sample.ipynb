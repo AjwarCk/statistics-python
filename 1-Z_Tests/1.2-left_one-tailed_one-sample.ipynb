{
 "cells": [
  {
   "cell_type": "markdown",
   "id": "d0761d1b",
   "metadata": {},
   "source": [
    "### One Tailed (Left Tailed) - One-Sample Z-Test"
   ]
  },
  {
   "cell_type": "markdown",
   "id": "bb6fa8bc",
   "metadata": {},
   "source": [
    "**1 - What is it?**\n",
    "\n",
    "A. `Left One-Tailed One-Sample Z-Test` is used to test whether a sample mean is `significantly lower` than population mean, when the `population standard deviation` is known and the `sample size is large (typically>=30)`.\n",
    "\n",
    "**In other words, it checks:**\n",
    "\n",
    "Is my sample average *truly smaller* than the overall population average, or is that difference just due to random variation?\n",
    "\n",
    "**Example**\n",
    "\n",
    "Is my small group's of average scores *really lower (significantly)* from the entire country's average score, or it just random chance."
   ]
  },
  {
   "cell_type": "markdown",
   "id": "9bc8012f",
   "metadata": {},
   "source": [
    "**2-Real-Life Example: Left Tailed One-Sample Z-Test**\n",
    "\n",
    "`Scenario:` A teacher believes here new teaching method might have produced `lower scores` this year due to a change in syllabus.\n",
    "\n",
    "So we wanted to test if its really decreased the scores, not just difference - So it's one-tailed test (specifically, right-tailed)"
   ]
  },
  {
   "cell_type": "markdown",
   "id": "84780d13",
   "metadata": {},
   "source": [
    "**3-Hypotheses**\n",
    "\n",
    "- H0 (Null Hypothesis) : No decrease in population mean\n",
    "- H1 (Alternate Hypothesis) : Sample mean < Population mean (scores decreased)\n",
    "\n",
    "This is `left-tailed` test because we're checking `less than`"
   ]
  },
  {
   "cell_type": "markdown",
   "id": "60ee64cd",
   "metadata": {},
   "source": [
    "**4 - Formula & Parameters**\n",
    "\n",
    "Z = (Sample Mean - Population Mean) / (Population Std)/Sqrt(Sample Size)\n",
    "\n",
    "Z = (x bar - μ) / (σ/sqrt(n))\n",
    "\n",
    "**Parameters:**\n",
    "\n",
    "- Population mean (μ) : 70\n",
    "- Population std (σ) : 10\n",
    "- Sample mean (x bar) : 67\n",
    "- Sample size (n) : 40\n",
    "- Significance level (a) : 0.05\n",
    "- Confidence Interval (CI) : 0.95\n",
    "\n",
    "Here, `populatin std is known and sample size >=30`, So we can do z-test, specifically *left one-tailed one-sample z-test*."
   ]
  },
  {
   "cell_type": "markdown",
   "id": "4714455c",
   "metadata": {},
   "source": [
    "**5 - Python Implementation (Step-by-Step)**"
   ]
  },
  {
   "cell_type": "code",
   "execution_count": 6,
   "id": "c2cd4a23",
   "metadata": {},
   "outputs": [
    {
     "name": "stdout",
     "output_type": "stream",
     "text": [
      "Standard Error (SE): 1.5811\n",
      "Z Statistic: -1.8974\n",
      "P-Value: 0.0289\n",
      "Critical Value: -1.6449\n",
      "\n",
      "--- Decision Based on P-Value ---\n",
      "Reject H0: The sample mean is significantly lower than the population mean.\n",
      "\n",
      "--- Decision Based on Critical Value ---\n",
      "Reject H0: The sample mean is significantly lower than the population mean.\n"
     ]
    }
   ],
   "source": [
    "import numpy as np\n",
    "from scipy import stats\n",
    "\n",
    "# Step 1: Define Parameters\n",
    "population_mean = 70    # Known population mean\n",
    "population_std = 10     # Known population standard_deviation\n",
    "sample_mean = 67        # Sample mean\n",
    "sample_size = 40        # Sample size\n",
    "alpha = 0.05            # Significance level\n",
    "\n",
    "# Step 2: Calculate Standard Error (SE)\n",
    "standard_error = population_std/np.sqrt(sample_size)\n",
    "print(f\"Standard Error (SE): {standard_error:.4f}\")\n",
    "\n",
    "# Step 3: Compute Z Statistics\n",
    "z_stat = (sample_mean - population_mean) / standard_error\n",
    "print(f\"Z Statistic: {z_stat:.4f}\")\n",
    "\n",
    "# Step 4: Compute P-Value for left One-Tailed Test\n",
    "# For a left-tailed test, we take area to the left of z_stat\n",
    "p_value = stats.norm.cdf(z_stat)\n",
    "print(f\"P-Value: {p_value:.4f}\")\n",
    "\n",
    "# Step 5: Compute Critical Value (Boundary of Rejection Region)\n",
    "# For left-tailed test, critical value = z_(alpha)\n",
    "critical_value = stats.norm.ppf(alpha)\n",
    "print(f\"Critical Value: {critical_value:.4f}\")\n",
    "\n",
    "# Step 6: Decision Making\n",
    "print(\"\\n--- Decision Based on P-Value ---\")\n",
    "if p_value < alpha:\n",
    "    print(\"Reject H0: The sample mean is significantly lower than the population mean.\")\n",
    "else:\n",
    "    print(\"Fail to Reject H0: No significant evidence that the sample mean is lower.\")\n",
    "\n",
    "print(\"\\n--- Decision Based on Critical Value ---\")\n",
    "if z_stat < critical_value:\n",
    "    print(\"Reject H0: The sample mean is significantly lower than the population mean.\")\n",
    "else:\n",
    "    print(\"Fail to Reject H0: No significant evidence that the sample mean is lower.\")"
   ]
  },
  {
   "cell_type": "markdown",
   "id": "66330606",
   "metadata": {},
   "source": [
    "**6 - Business Interpretation**\n",
    "\n",
    "- **Z = 1.90** -> The sample mean is 1.9 standard error below the population mean.\n",
    "- **p = 0.029** -> There's only about a 2.9% probability of observing such a low average if the true mean were still 70.\n",
    "\n",
    "**Conclusion:**\n",
    "This suggests that decrease in score is **statistically significant**, meaning it's unlikely due to random variation.\n",
    "The new syllabus **likely had a negative impact** on students performance."
   ]
  }
 ],
 "metadata": {
  "kernelspec": {
   "display_name": "base",
   "language": "python",
   "name": "python3"
  },
  "language_info": {
   "codemirror_mode": {
    "name": "ipython",
    "version": 3
   },
   "file_extension": ".py",
   "mimetype": "text/x-python",
   "name": "python",
   "nbconvert_exporter": "python",
   "pygments_lexer": "ipython3",
   "version": "3.12.9"
  }
 },
 "nbformat": 4,
 "nbformat_minor": 5
}
