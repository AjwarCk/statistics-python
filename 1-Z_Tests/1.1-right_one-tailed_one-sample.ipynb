{
 "cells": [
  {
   "cell_type": "markdown",
   "id": "b6796d12",
   "metadata": {},
   "source": [
    "### One Tailed (Right Tailed) - One-Sample Z-Test"
   ]
  },
  {
   "cell_type": "markdown",
   "id": "1cc70c01",
   "metadata": {},
   "source": [
    "**1 - What is it?**\n",
    "\n",
    "A. `Right One-Tailed One-Sample Z-Test` check the means of sample is significantly higher from the population mean (when population standard devidation is known and sample size is large, usually n>=30).\n",
    "\n",
    "`Think of i like` is my small group's of average weight `really higher(significantly)` from the entire country's average weight, or it just random chance."
   ]
  },
  {
   "cell_type": "markdown",
   "id": "09483dcc",
   "metadata": {},
   "source": [
    "**2- Real-Life Example : Right Tailed One-Sample Z-Test**\n",
    "\n",
    "`Scenario:` Your marketing teams says: `Out new landing page increase average session time beyond 5 minutes`\n",
    "\n",
    "So we wanted to test if its really greater than 5 minutes, not just difference - So it's one-tailed test (specifically, right-tailed)"
   ]
  },
  {
   "cell_type": "markdown",
   "id": "3e3026d9",
   "metadata": {},
   "source": [
    "**3 - Hypotheses**\n",
    "\n",
    "- H0 (Null Hypothesis) : Population mean (meau) = 5 (no improvement).\n",
    "- H1 (Alternate Hypothesis) : Sample mean > Population mean (mean time improved)\n",
    "\n",
    "This is a `right-tailed` test because we're checking the `greater than`."
   ]
  },
  {
   "cell_type": "markdown",
   "id": "3dcf8385",
   "metadata": {},
   "source": [
    "**4 - Formula**\n",
    "\n",
    "Z = (Sample mean - Population mean) / (Population std/Sqrt(Sample Size))\n",
    "\n",
    "Z = (x bar - μ) / σ/sqrt(n)\n",
    "\n",
    "**Parameters:**\n",
    "- Population mean (μ) : 5 min\n",
    "- Population std (σ) : 1 min\n",
    "- Sample mean (x bar) : 5.5 min\n",
    "- Sample size (n) : 50\n",
    "- Significance level (alpha) : 0.05\n",
    "- confidence Interval (CI) : 0.95\n",
    "\n",
    "Here `population std is know and sample size>=30` so we can do z-test, specifically *right one-tailed one-sample z-test*."
   ]
  },
  {
   "cell_type": "markdown",
   "id": "85d8c11b",
   "metadata": {},
   "source": [
    "**5 - Python Implementation (Step-by_Step)**"
   ]
  },
  {
   "cell_type": "code",
   "execution_count": 5,
   "id": "3f1bdacf",
   "metadata": {},
   "outputs": [
    {
     "name": "stdout",
     "output_type": "stream",
     "text": [
      "Standard Error: 0.1414\n",
      "Z-Statistics: 3.5355\n",
      "P-Value: 0.0002\n",
      "Critical Value (Right-Tail, a=0.05): 1.6449\n",
      "Reject H0: Landing page signficantly increased session time.\n",
      "Reject H0: Landing page significantly increased session time.\n"
     ]
    }
   ],
   "source": [
    "from platform import java_ver\n",
    "import numpy as np\n",
    "from scipy import stats\n",
    "\n",
    "# Step 1 : Define Parameters\n",
    "population_mean = 5 # average time on site (in minutes)\n",
    "population_std = 1   # population standard deviation (spread from mean)\n",
    "sample_mean = 5.5   # sample mean\n",
    "sample_size = 50    # sample size\n",
    "alpha = 0.05        # significance level (a)\n",
    "\n",
    "# Step 2 : Calculate Standard Error (SE)\n",
    "standard_error = population_std / np.sqrt(sample_size)\n",
    "print(f\"Standard Error: {round(standard_error,4)}\")\n",
    "\n",
    "# Step 3 : Z Statistics\n",
    "z_stat = (sample_mean - population_mean)/standard_error\n",
    "print(f\"Z-Statistics: {round(z_stat,4)}\")\n",
    "\n",
    "# Step 4 : Calculate Right One-tailed One-sample Z-test P-Value\n",
    "p_value = 1 - stats.norm.cdf(z_stat)\n",
    "print(f\"P-Value: {round(p_value,4)}\")\n",
    "\n",
    "# Step 5 : Calculate Critical Value (Lower Bound of Critical Region)\n",
    "# For right-tailed test -> critical value = z_(1-alpha)\n",
    "critical_value = stats.norm.ppf(1-alpha)\n",
    "print(f\"Critical Value (Right-Tail, a={alpha}): {round(critical_value,4)}\")\n",
    "\n",
    "# Step 6.1 : Decison based on p_value with alpha\n",
    "if p_value < alpha:\n",
    "    print(\"Reject H0: Landing page signficantly increased session time.\")\n",
    "else:\n",
    "    print(\"Fail to Reject H0: No significant increase in session time.\")\n",
    "\n",
    "# OR\n",
    "\n",
    "# Step 6.2 : Decision based on z_stat with critical_value\n",
    "if z_stat > critical_value:\n",
    "    print(\"Reject H0: Landing page significantly increased session time.\")\n",
    "else:\n",
    "    print(\"Fail to Reject H0: No significant increase in session time.\")"
   ]
  },
  {
   "cell_type": "markdown",
   "id": "82e272a0",
   "metadata": {},
   "source": [
    "**6 - Business Interpretation**\n",
    "\n",
    "- Z = 3.53 -> Sample mean is 3.5 standard errors above the population mean.\n",
    "- p = 0.0002 -> There's only 0.02% chance that this result happened by luck.\n",
    "- So here new page `really did` increase time - on by random luck."
   ]
  }
 ],
 "metadata": {
  "kernelspec": {
   "display_name": "base",
   "language": "python",
   "name": "python3"
  },
  "language_info": {
   "codemirror_mode": {
    "name": "ipython",
    "version": 3
   },
   "file_extension": ".py",
   "mimetype": "text/x-python",
   "name": "python",
   "nbconvert_exporter": "python",
   "pygments_lexer": "ipython3",
   "version": "3.12.9"
  }
 },
 "nbformat": 4,
 "nbformat_minor": 5
}
