{
 "cells": [
  {
   "cell_type": "markdown",
   "id": "fe4f6291",
   "metadata": {},
   "source": [
    "### One-Sample Z-Test"
   ]
  },
  {
   "cell_type": "markdown",
   "id": "8a7b076c",
   "metadata": {},
   "source": [
    "**1 - What it is?**\n",
    "\n",
    "A. `One-Sample Z-Test` checks if the mean of your sample is signficantly different from the population mean (when population standard deviation is known, and sample size is large, usually n>=30).\n",
    "\n",
    "`Think of it like`\n",
    "\"Is my small group's average weight `really different` from the entire country's average weight, or is it just random chance?\""
   ]
  },
  {
   "cell_type": "markdown",
   "id": "5bf8c652",
   "metadata": {},
   "source": [
    "**2 - Real-Life Example**\n",
    "\n",
    "Suppose: `The average time on site (population mean)` for users = 5 minutes.\n",
    "- From analytics, we take a sample of 50 visitors and find the `average time spent=5.5 minutes`. \n",
    "- We know the `population standard deviation (sigma) = 1 minute.\n",
    "\n",
    "**Question: Is this increase real(significant) or just random nosie?**"
   ]
  },
  {
   "cell_type": "markdown",
   "id": "c2766903",
   "metadata": {},
   "source": [
    "**3 - Hypotheses**\n",
    "- H0 (Null Hypotheses) : population mean (mue) = 5 (no difference, sample mean = population mean)\n",
    "- H1 (Alternate Hypotheses) : population mean (mue) != 5 (there is a difference)\n",
    "\n",
    "This is `two-tailed test`.\n",
    "\n",
    "- One tail = One direction -> care only if it's higher or lower.\n",
    "- Tow tails = Both directions -> care if it's different at all."
   ]
  },
  {
   "cell_type": "markdown",
   "id": "b72d9085",
   "metadata": {},
   "source": [
    "**4 - Formula**\n",
    "\n",
    "Z = (sample mean - population)/(population standard deviation/sqrt(sample size)​)\n",
    "\n",
    "Z = (x bar - μ) / (σ/sqrt(n))\n",
    "\n",
    "**Where:**\n",
    "- x bar  = sample mean\n",
    "- μ (meu) = population mean\n",
    "- σ (sigma) = population standard deviation\n",
    "- n = sample size"
   ]
  },
  {
   "cell_type": "markdown",
   "id": "5ffa0bed",
   "metadata": {},
   "source": [
    "**5 - Python Implementation (Step-by-Step)**"
   ]
  },
  {
   "cell_type": "code",
   "execution_count": 1,
   "id": "ff2b962c",
   "metadata": {},
   "outputs": [
    {
     "name": "stdout",
     "output_type": "stream",
     "text": [
      "Standard Error (SE): 0.1414213562373095\n",
      "Z-Statistic:  3.5355339059327378\n",
      "P-Value:  0.00040695201744500586\n",
      "Reject H0: The sample mean is significantly different from the population mean.\n"
     ]
    }
   ],
   "source": [
    "import numpy as np\n",
    "from scipy import stats\n",
    "\n",
    "# -------------------------------------\n",
    "# Step 1: Define population parameters\n",
    "# -------------------------------------\n",
    "population_mean = 5 # μ = average time spent (in minutes) - populiation mean\n",
    "population_std = 1  # σ = population standard deviation\n",
    "sample_size = 50    # n = number of visitors in our sample\n",
    "\n",
    "# ------------------------------------------\n",
    "# Step 2: Define our sample mean (from data)\n",
    "# ------------------------------------------\n",
    "sample_mean = 5.5 # The average time spent from the sample\n",
    "\n",
    "# -------------------------------------------\n",
    "# Step 3: Calculate Standard Error (SE)\n",
    "# -------------------------------------------\n",
    "# Formula: SE = σ / sqrt(n)\n",
    "standard_error = population_std / np.sqrt(sample_size)\n",
    "print(\"Standard Error (SE):\", standard_error)\n",
    "\n",
    "# --------------------------------------------\n",
    "# Step 4: Calculate Z-Statistic\n",
    "# --------------------------------------------\n",
    "# Formula; Z = (x bar - μ) / SE\n",
    "z_stat = (sample_mean - population_mean) / standard_error\n",
    "print(\"Z-Statistic: \", z_stat)\n",
    "\n",
    "# --------------------------------------------\n",
    "# Step 5: Calculate p-value\n",
    "# --------------------------------------------\n",
    "# Since this is a two-tailed test:\n",
    "p_value = 2 * (1 - stats.norm.cdf(abs(z_stat)))\n",
    "print(\"P-Value: \", p_value)\n",
    "\n",
    "# ---------------------------------------------\n",
    "# Step 6: Set significance level (a)\n",
    "# ---------------------------------------------\n",
    "alpha = 0.05\n",
    "\n",
    "# ---------------------------------------------\n",
    "# Step 7: Decision\n",
    "# ---------------------------------------------\n",
    "if p_value < alpha:\n",
    "    print(\"Reject H0: The sample mean is significantly different from the population mean.\")\n",
    "else:\n",
    "    print(\"Fail to Reject H0: No significant difference between sample mean and population mean.\")"
   ]
  },
  {
   "cell_type": "markdown",
   "id": "251fd618",
   "metadata": {},
   "source": [
    "**6 - Walkthrough of Results**\n",
    "\n",
    "1. Standard Error -> measures how much sample means fluctuate from population mean.\n",
    "2. Z-Statistic -> tells us how many \"standard errors\" away the sample mean is from the population mean.\n",
    "3. p-value -> probability of observing this difference (or more extreme) if null hypothesis is true.\n",
    "4. Decision -> if p < a (0.05), result is **statistically significant**."
   ]
  },
  {
   "cell_type": "markdown",
   "id": "21480fec",
   "metadata": {},
   "source": [
    "**7 - Analogy to Remember**\n",
    "\n",
    "Think of it like a **class exam**\n",
    "\n",
    "- Population mean = the **average score of the entire country**.\n",
    "- Sample mean = your class's ***average**\n",
    "- Z-test checks -> \"Is your class performing **really differently** than the country average, or is this difference just luck?\""
   ]
  }
 ],
 "metadata": {
  "kernelspec": {
   "display_name": "base",
   "language": "python",
   "name": "python3"
  },
  "language_info": {
   "codemirror_mode": {
    "name": "ipython",
    "version": 3
   },
   "file_extension": ".py",
   "mimetype": "text/x-python",
   "name": "python",
   "nbconvert_exporter": "python",
   "pygments_lexer": "ipython3",
   "version": "3.12.9"
  }
 },
 "nbformat": 4,
 "nbformat_minor": 5
}
